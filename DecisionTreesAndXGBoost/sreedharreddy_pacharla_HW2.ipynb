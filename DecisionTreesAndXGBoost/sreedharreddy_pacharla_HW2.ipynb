{
 "cells": [
  {
   "cell_type": "markdown",
   "id": "945bf352-093f-4035-b95d-32bb7f1607c2",
   "metadata": {},
   "source": [
    "# HW2"
   ]
  },
  {
   "cell_type": "markdown",
   "id": "e0e7f632-c2ac-48f9-b47b-edf8ab072be5",
   "metadata": {},
   "source": [
    "## Programming Questions"
   ]
  },
  {
   "cell_type": "markdown",
   "id": "71cf8f7c-794d-4688-a4ae-01f4b1101797",
   "metadata": {},
   "source": [
    "## Part A - Classification Tree"
   ]
  },
  {
   "cell_type": "markdown",
   "id": "0d202f5f-e6ca-4747-81e3-5f846ad5a9c8",
   "metadata": {},
   "source": [
    "1. Given a csv file named \"data_train.csv\". I need to read the data using the pandas library using read_csv function.\r",
    "2. \n",
    "After reading the data, I need to print the first five rows. I used head() method which by default, returns the first five rows if parameter is not specified\n",
    "3. \r\n",
    "I checked for missing values and returned the null values. To do this I used isnull method. The isnull method provides dataframe objects that have all NULLs substituted with true and non-NULLs substituted with false. The sum method returns the sum of each column containing NUL\n",
    "4. .\r\n",
    "After the above step, I removed the rows where there are missing values using dropna meth\n",
    "5. Next I created two dataframes x and y where x consists of all attributes and y consists of target. I used copy method. This makes sure that if I do any changes in x and y, it won't reflect on original data.\n",
    "6. Next I converted the string or character attributes to numerical representation so that I can use only numbers during the computation of decision trees.\n",
    "7. after this I converted the dataframe into array and data is splitted for Training and validation. For testing I have read after later in below cells.el."
   ]
  },
  {
   "cell_type": "code",
   "execution_count": 401,
   "id": "386301cd-ddf3-46de-ae83-0fe2a98ae96f",
   "metadata": {},
   "outputs": [
    {
     "name": "stdout",
     "output_type": "stream",
     "text": [
      "   Unnamed: 0   Loan_ID Gender Married Dependents Education Self_Employed  \\\n",
      "0           0  LP001518   Male     Yes          1  Graduate            No   \n",
      "1           1  LP002734   Male     Yes          0  Graduate            No   \n",
      "2           2  LP002697   Male      No          0  Graduate            No   \n",
      "3           3  LP002455   Male     Yes          2  Graduate            No   \n",
      "4           4  LP001732   Male     Yes          2  Graduate           NaN   \n",
      "\n",
      "   ApplicantIncome  CoapplicantIncome  LoanAmount  Loan_Amount_Term  \\\n",
      "0             1538             1425.0        30.0             360.0   \n",
      "1             6133             3906.0       324.0             360.0   \n",
      "2             4680             2087.0         NaN             360.0   \n",
      "3             3859                0.0        96.0             360.0   \n",
      "4             5000                0.0        72.0             360.0   \n",
      "\n",
      "   Credit_History Property_Area Loan_Status  \n",
      "0             1.0         Urban           Y  \n",
      "1             1.0         Urban           Y  \n",
      "2             1.0     Semiurban           N  \n",
      "3             1.0     Semiurban           Y  \n",
      "4             0.0     Semiurban           N  \n",
      "(491, 14)\n",
      "Unnamed: 0            0\n",
      "Loan_ID               0\n",
      "Gender               12\n",
      "Married               3\n",
      "Dependents           13\n",
      "Education             0\n",
      "Self_Employed        29\n",
      "ApplicantIncome       0\n",
      "CoapplicantIncome     0\n",
      "LoanAmount           17\n",
      "Loan_Amount_Term     12\n",
      "Credit_History       43\n",
      "Property_Area         0\n",
      "Loan_Status           0\n",
      "dtype: int64\n"
     ]
    }
   ],
   "source": [
    "import pandas as pd # Import the pandas library\n",
    "import numpy as np # Import the numpy library\n",
    "from sklearn.model_selection import train_test_split\n",
    "\n",
    "data = pd.read_csv('data_train-1.csv')\n",
    "print(data.head()); #by default head method returns the first five rows if a number is not mentioned\n",
    "\n",
    "print(data.shape)\n",
    "\n",
    "null_data = data.isnull().sum(); #isnull method returns the dataframe objects where all NULL is replaced with true and non NULL is replaced with false.\n",
    "#The sum method returns the sum of each column containing NULL.\n",
    "print(null_data)\n",
    "\n",
    "data = data.dropna() #drop the rows where there are missing values\n",
    "\n",
    "# Extract the attributes. Copy the mentioned columns from the 'data' to x. The copy() method returns a copy of the DataFrame\n",
    "x = data[['Gender', 'Married', 'Dependents', 'Education', 'Self_Employed', 'ApplicantIncome', \n",
    "          'CoapplicantIncome', 'LoanAmount', 'Loan_Amount_Term', \n",
    "          'Credit_History', 'Property_Area']].copy()\n",
    "\n",
    "# Extract the target. Copy the mentioned columns from the 'data' to y. The copy() method returns a copy of the DataFrame\n",
    "y = data[['Loan_Status']].copy()\n",
    "\n",
    "# Convert the string or character to number\n",
    "x.loc[:, 'Gender'] = x['Gender'].map({'Male': 1, 'Female': 0}) #'Male' is mapped to 1, and 'Female' is mapped to 0\n",
    "x.loc[:, 'Married'] = x['Married'].map({'Yes': 1, 'No': 0}) # 'Yes' is mapped to 1, and 'No' is mapped to 0\n",
    "x.loc[:, 'Education'] = x['Education'].map({'Graduate': 1, 'Not Graduate': 0}) #'Graduate' is mapped to 1, and 'Not Graduate' is mapped to 0\n",
    "x.loc[:, 'Self_Employed'] = x['Self_Employed'].map({'Yes': 1, 'No': 0}) #'Yes' is mapped to 1, and 'No' is mapped to 0\n",
    "#'Urban' is mapped to 0, 'Semiurban' is mapped to 1, and 'Rural' is mapped to 2\n",
    "x.loc[:, 'Property_Area'] = x['Property_Area'].map({'Urban': 0, 'Semiurban': 1, 'Rural': 2}) \n",
    "#'0' mapped to 0, '1' mapped to 1, '2' mapped to 2, and '3+' mapped to 3.\n",
    "x.loc[:, 'Dependents'] = x['Dependents'].map({'0': 0, '1': 1, '2': 2, '3+': 3}) \n",
    "\n",
    "y = y['Loan_Status'].map({'Y': 1, 'N': 0}).to_numpy() #convert a dataframe to Numpy array\n",
    "\n",
    "x_array = x.to_numpy()  #convert dataframe to Numpy array\n",
    "\n",
    "# split the dataset into training and testing sets.\n",
    "X_train, X_test, y_train, y_test = train_test_split(x_array, y, test_size=0.2, random_state=1234)"
   ]
  },
  {
   "cell_type": "markdown",
   "id": "26055f8c-057c-455f-b420-74599034fcdf",
   "metadata": {},
   "source": [
    "Description of Data: There are 11 features and 1 label. It is obserrved there are 491 samples in the given dataset. There are some missing values in Gender, Married, Dependents,slef_employed, LoanAmount, Loan_Amount_Term and credit history. These rows are dropped and plotted the histograms of the data."
   ]
  },
  {
   "cell_type": "code",
   "execution_count": 403,
   "id": "cbf40dc1-ba6a-47a3-b2cf-9109e9fe5038",
   "metadata": {},
   "outputs": [
    {
     "data": {
      "image/png": "[encoded data removed]",
      "text/plain": [
       "<Figure size 1500x500 with 11 Axes>"
      ]
     },
     "metadata": {},
     "output_type": "display_data"
    }
   ],
   "source": [
    "import matplotlib.pyplot as pyplot\n",
    "from matplotlib.pyplot import subplots\n",
    "\n",
    "# Create subplots with 3 rows and 4 columns, with a figure size of (15, 5)\n",
    "fig, axes = subplots(nrows=3, ncols=4, figsize=(15, 5))\n",
    "\n",
    "# Initialize index for iterating over features\n",
    "index = 0  \n",
    "title = x.columns\n",
    "\n",
    "for i in range(3):  # iterate over the rows\n",
    "    for j in range(4):  # iterate over the columns\n",
    "        if index < len(title):  # Ensure index does not exceed the number of features\n",
    "            axes[i, j].hist(x.iloc[:, index], edgecolor='black')  # Plot histogram for the current feature\n",
    "            axes[i, j].set_title(title[index])  # Set the title of the subplot using the column name of the feature\n",
    "            index += 1  # Increment index to move to the next feature\n",
    "        else:\n",
    "            fig.delaxes(axes[i, j])  # Remove the extra subplots after the last feature\n",
    "\n",
    "# Adjust the layout to avoid overlapping plots\n",
    "pyplot.tight_layout()\n",
    "\n",
    "# Show the plot\n",
    "pyplot.show()\n"
   ]
  },
  {
   "cell_type": "markdown",
   "id": "69d271a8-da4e-4159-a273-0cde28d42d12",
   "metadata": {},
   "source": [
    "It appears that all features are grouped into different categories. It is not continous."
   ]
  },
  {
   "cell_type": "markdown",
   "id": "4acf16f9-d5b7-431e-9ee8-2c862ca65a2c",
   "metadata": {},
   "source": [
    "# A-2 Implementation"
   ]
  },
  {
   "cell_type": "markdown",
   "id": "2463d30f-e061-4bc8-83cf-ce081fbe1a50",
   "metadata": {},
   "source": [
    "I used the implementation provided by the professor in the class(Discussion 5).\n",
    "1. First function computes the Gini impurity. The Gini impurity is calculated as $ 1 - \\Sigma (p_i)^2$ where $p_i$ is the probability of class i.\n",
    "\n",
    "The Algorithm is as follows:\n",
    "1. Start at the root node.\n",
    "2. For each node, find a split that best seperates the data effectively. Evaluate all attributes and threshold values to find the split. Split the data based on maximimum information gain among all attributes. Information gain is difference between parent Gini impurity and weighted averages of the child Gini impurity after the split.\n",
    "3. After finding the best attribute, store this information at the current node.\n",
    "4. Repeat this process considering each child node as new rootnode with the remaining data.\n",
    "5. Continue this process untill a stopping criteria is met. This criteria can be maximum depth, achieving minimum Gini impurity or having minimum number of samples in a node.\n",
    "6. When the process is stopped, make that node as leaf node and save the most common class label from the data at that node."
   ]
  },
  {
   "cell_type": "code",
   "execution_count": 407,
   "id": "4107a241-a88d-4bcb-b47c-4dc74aba306d",
   "metadata": {},
   "outputs": [],
   "source": [
    "def Gini_impurity(y):\n",
    "    hist = np.bincount(y) #counts the occurrences of each class label\n",
    "    ps = hist / len(y) # probability of each class\n",
    "    return 1-np.sum([p * p for p in ps if p > 0])\n",
    "\n",
    "\n",
    "class Node:\n",
    "    def __init__(\n",
    "        self, feature=None, threshold=None, left=None, right=None, *, value=None\n",
    "    ):\n",
    "        self.feature = feature\n",
    "        self.threshold = threshold\n",
    "        self.left = left\n",
    "        self.right = right\n",
    "        self.value = value\n",
    "\n",
    "    def is_leaf_node(self):\n",
    "        return self.value is not None #returns True if the node is a leaf node\n",
    "\n",
    "\n",
    "class DecisionTree:\n",
    "    def __init__(self, min_samples_split=2, max_depth=100, n_feats=None):\n",
    "        self.min_samples_split = min_samples_split #Minimum number of samples required to split a node.\n",
    "        self.max_depth = max_depth #Maximum depth of the tree.\n",
    "        self.n_feats = n_feats #Number of features\n",
    "        self.root = None\n",
    "\n",
    "    #fit builds the decision tree by calling the _grow_tree()\n",
    "    def fit(self, X, y):\n",
    "        self.n_feats = X.shape[1] if not self.n_feats else min(self.n_feats, X.shape[1])\n",
    "        self.root = self._grow_tree(X, y)\n",
    "\n",
    "    def predict(self, X):\n",
    "        return np.array([self._traverse_tree(x, self.root) for x in X]) #traverse the tree for each input feature to predict the output\n",
    "\n",
    "    #This function recursively grows the tree by splitting the data\n",
    "    def _grow_tree(self, X, y, depth=0):\n",
    "        n_samples, n_features = X.shape\n",
    "        n_labels = len(np.unique(y))\n",
    "\n",
    "        # stopping criteria\n",
    "        if (\n",
    "            depth >= self.max_depth\n",
    "            or n_labels == 1\n",
    "            or n_samples < self.min_samples_split\n",
    "        ):\n",
    "            leaf_value = self._most_common_label(y)\n",
    "            return Node(value=leaf_value)\n",
    "\n",
    "        feat_idxs = np.random.choice(n_features, self.n_feats, replace=False)\n",
    "\n",
    "        # greedily select the best split according to information gain\n",
    "        best_feat, best_thresh = self._best_criteria(X, y, feat_idxs)\n",
    "\n",
    "        # grow the children that result from the split\n",
    "        left_idxs, right_idxs = self._split(X[:, best_feat], best_thresh)\n",
    "        left = self._grow_tree(X[left_idxs, :], y[left_idxs], depth + 1)\n",
    "        right = self._grow_tree(X[right_idxs, :], y[right_idxs], depth + 1)\n",
    "        return Node(best_feat, best_thresh, left, right)\n",
    "    \n",
    "    #find the feature which has highest information gain \n",
    "    def _best_criteria(self, X, y, feat_idxs):\n",
    "        best_gain = -1\n",
    "        split_idx, split_thresh = None, None\n",
    "        for feat_idx in feat_idxs:\n",
    "            X_column = X[:, feat_idx]\n",
    "            thresholds = np.unique(X_column)\n",
    "            for threshold in thresholds:\n",
    "                gain = self._information_gain(y, X_column, threshold)\n",
    "\n",
    "                if gain > best_gain:\n",
    "                    best_gain = gain\n",
    "                    split_idx = feat_idx\n",
    "                    split_thresh = threshold\n",
    "\n",
    "        return split_idx, split_thresh\n",
    "    \n",
    "    #calculate the information gain\n",
    "    def _information_gain(self, y, X_column, split_thresh):\n",
    "        # parent loss\n",
    "        parent_entropy = Gini_impurity(y)\n",
    "\n",
    "        # generate split\n",
    "        left_idxs, right_idxs = self._split(X_column, split_thresh)\n",
    "\n",
    "        if len(left_idxs) == 0 or len(right_idxs) == 0:\n",
    "            return 0\n",
    "\n",
    "        # compute the weighted avg. of the loss for the children\n",
    "        n = len(y)\n",
    "        n_l, n_r = len(left_idxs), len(right_idxs)\n",
    "        e_l, e_r = Gini_impurity(y[left_idxs]), Gini_impurity(y[right_idxs])\n",
    "        child_entropy = (n_l / n) * e_l + (n_r / n) * e_r\n",
    "\n",
    "        # information gain is difference in loss before vs. after split\n",
    "        ig = parent_entropy - child_entropy\n",
    "        return ig\n",
    "    \n",
    "    #split the data\n",
    "    def _split(self, X_column, split_thresh):\n",
    "        left_idxs = np.argwhere(X_column <= split_thresh).flatten()\n",
    "        right_idxs = np.argwhere(X_column > split_thresh).flatten()\n",
    "        return left_idxs, right_idxs\n",
    "    \n",
    "    def _traverse_tree(self, x, node):\n",
    "        if node.is_leaf_node():\n",
    "            return node.value\n",
    "\n",
    "        if x[node.feature] <= node.threshold:\n",
    "            return self._traverse_tree(x, node.left)\n",
    "        return self._traverse_tree(x, node.right)\n",
    "    \n",
    "    #find the most common label in the given list\n",
    "    def _most_common_label(self, y):\n",
    "        counter = Counter(y)\n",
    "        most_common = counter.most_common(1)[0][0]\n",
    "        return most_common"
   ]
  },
  {
   "cell_type": "code",
   "execution_count": 408,
   "id": "67dbc251-c403-4d4a-84bd-c28e24b1975b",
   "metadata": {},
   "outputs": [],
   "source": [
    "#function for accuracy\n",
    "def accuracy(y_true, y_pred):\n",
    "    accuracy = np.sum(y_true == y_pred) / len(y_true) #no of correct predictions/ no of samples\n",
    "    return accuracy"
   ]
  },
  {
   "cell_type": "code",
   "execution_count": 409,
   "id": "fdc87644-d04d-49b1-81c6-5dffd730d2e1",
   "metadata": {},
   "outputs": [
    {
     "name": "stdout",
     "output_type": "stream",
     "text": [
      "Accuracy: 0.84\n"
     ]
    }
   ],
   "source": [
    "clf = DecisionTree(max_depth=4)\n",
    "clf.fit(X_train, y_train) #trains the decision tree using the training data\n",
    "\n",
    "y_pred = clf.predict(X_test) #use the trained decision tree for prediction of Validation data\n",
    "acc = accuracy(y_test, y_pred) #calcuate the accuracy\n",
    "\n",
    "print(\"Accuracy:\", acc)"
   ]
  },
  {
   "cell_type": "markdown",
   "id": "4241548f-85b7-43a2-9c67-cf0f78c51b65",
   "metadata": {},
   "source": [
    "I have computed the results of test data with the trained parameters. The results are written back to the mentioned csv file in the last columns"
   ]
  },
  {
   "cell_type": "code",
   "execution_count": 411,
   "id": "091644df-d9f6-4eb4-8ea7-3bf382ab1feb",
   "metadata": {},
   "outputs": [
    {
     "name": "stdout",
     "output_type": "stream",
     "text": [
      "(123, 15)\n",
      "   Unnamed: 0   Loan_ID Gender Married Dependents     Education Self_Employed  \\\n",
      "0           0  LP002364   Male     Yes          0      Graduate            No   \n",
      "1           1  LP001334   Male     Yes          0  Not Graduate            No   \n",
      "2           2  LP002979   Male     Yes         3+      Graduate            No   \n",
      "3           3  LP002443   Male     Yes          2      Graduate            No   \n",
      "4           4  LP001758   Male     Yes          2      Graduate            No   \n",
      "\n",
      "   ApplicantIncome  CoapplicantIncome  LoanAmount  Loan_Amount_Term  \\\n",
      "0            14880                0.0        96.0             360.0   \n",
      "1             4188                0.0       115.0             180.0   \n",
      "2             4106                0.0        40.0             180.0   \n",
      "3             3340             1710.0       150.0             360.0   \n",
      "4             6250             1695.0       210.0             360.0   \n",
      "\n",
      "   Credit_History Property_Area pred_tree pred_xgboost  \n",
      "0             1.0     Semiurban         Y            Y  \n",
      "1             1.0     Semiurban         Y            Y  \n",
      "2             1.0         Rural         Y            Y  \n",
      "3             0.0         Rural         N            N  \n",
      "4             1.0     Semiurban         Y            Y  \n"
     ]
    }
   ],
   "source": [
    "# Load the test data from the CSV file\n",
    "TestData = pd.read_csv('data_test-1.csv')\n",
    "print(TestData.shape)\n",
    "# Drop rows with missing values\n",
    "TestData_new = TestData.dropna()\n",
    "# Extract the relevant features\n",
    "Testx = TestData_new[['Gender', 'Married', 'Dependents', 'Education', 'Self_Employed', 'ApplicantIncome', \n",
    "          'CoapplicantIncome', 'LoanAmount', 'Loan_Amount_Term', \n",
    "          'Credit_History', 'Property_Area']].copy()\n",
    "\n",
    "# Convert the string or character to number\n",
    "Testx.loc[:, 'Gender'] = Testx['Gender'].map({'Male': 1, 'Female': 0})\n",
    "Testx.loc[:, 'Married'] = Testx['Married'].map({'Yes': 1, 'No': 0})\n",
    "Testx.loc[:, 'Education'] = Testx['Education'].map({'Graduate': 1, 'Not Graduate': 0})\n",
    "Testx.loc[:, 'Self_Employed'] = Testx['Self_Employed'].map({'Yes': 1, 'No': 0})\n",
    "Testx.loc[:, 'Property_Area'] = Testx['Property_Area'].map({'Urban': 0, 'Semiurban': 1, 'Rural': 2})\n",
    "Testx.loc[:, 'Dependents'] = Testx['Dependents'].map({'0': 0, '1': 1, '2': 2, '3+': 3})\n",
    "Testx_array = Testx.to_numpy()\n",
    "TestDataPredictions = clf.predict(Testx_array)\n",
    "TestDataPredictions = np.where(TestDataPredictions == 1, 'Y', 'N')\n",
    "# Add the predictions to the TestData DataFrame as a new column 'pred_tree'\n",
    "TestData.loc[TestData_new.index, 'pred_tree'] = TestDataPredictions\n",
    "print(TestData.head())\n"
   ]
  },
  {
   "cell_type": "markdown",
   "id": "fac80683-669c-469a-a528-ba07994c6135",
   "metadata": {},
   "source": [
    "# Part B - Boosting"
   ]
  },
  {
   "cell_type": "markdown",
   "id": "57e42f3d-a04b-4f66-9a99-413b0c639ad6",
   "metadata": {},
   "source": [
    "1. The function train_XGBoost performs bootstrapped training of an XGBoost model with L2 regularization to evaluate its performance for different regularization parameters (alpha_vals). \n",
    "2. It returns the average Area Under the Curve (AUC) for each alpha value across multiple bootstrap iterations.\n",
    "\n",
    "   Reference for XGboost: https://xgboosting.com/"
   ]
  },
  {
   "cell_type": "code",
   "execution_count": 414,
   "id": "ea915e21-efa5-4ddd-b0be-7097e3fa0554",
   "metadata": {},
   "outputs": [],
   "source": [
    "def train_XGBoost(n_bootstraps, alpha_vals, x_array, y):\n",
    "    mean_auc = {alpha: 0 for alpha in alpha_vals} #dictionary to store the average AUC for each value of alpha\n",
    "    aucs_xgboost = [0 for alpha in alpha_vals] #list that accumulates AUC values for each alpha\n",
    "\n",
    "    #Bootstrap Loop\n",
    "    for _ in range(n_bootstraps):\n",
    "        rindex = np.random.choice(len(x_array), size=len(x_array), replace=True)\n",
    "        X_train_b = x_array[rindex]\n",
    "        y_train_b = y[rindex]\n",
    "        oindex = np.array(list(set(range(len(x_array))) - set(rindex)))\n",
    "        x_test_b = x_array[oindex]\n",
    "        y_test_b = y[oindex]\n",
    "        index = 0\n",
    "\n",
    "        #Train and Evaluate XGBoost for Each Alpha\n",
    "        for alpha in alpha_vals:\n",
    "            xgbClassifierModel = XGBClassifier(objective='binary:logistic', reg_lambda=alpha, random_state=1234, max_depth=5)\n",
    "            xgbClassifierModel.fit(X_train_b, y_train_b)\n",
    "            y_predprob = xgbClassifierModel.predict_proba(x_test_b)[:,1]\n",
    "            fpr, tpr, _ = roc_curve(y_test_b, y_predprob)\n",
    "            # Calculate the area under the ROC curve (AUC)\n",
    "            roc_auc = auc(fpr, tpr)\n",
    "            aucs_xgboost[index] = aucs_xgboost[index] + roc_auc\n",
    "            index = index + 1\n",
    "\n",
    "    # Calculate the Mean AUC\n",
    "    index = 0\n",
    "    for alpha in alpha_vals:\n",
    "        mean_auc[alpha] = aucs_xgboost[index]/n_bootstraps\n",
    "        index = index + 1\n",
    "    return mean_auc\n",
    "    "
   ]
  },
  {
   "cell_type": "code",
   "execution_count": 415,
   "id": "36d32ff0-36ea-42ed-ad4e-f45877e13d0d",
   "metadata": {},
   "outputs": [
    {
     "name": "stdout",
     "output_type": "stream",
     "text": [
      "{0.001: 0.7125339368272221, 0.01: 0.7123658653515339, 0.1: 0.7118091518888906, 1: 0.7220324973956211, 10.0: 0.7236397233432413, 100.0: 0.7209963776823795, 1000.0: 0.7213578209675978}\n",
      "optimal alpha:  10.0\n",
      "Maximum AUC 0.7236397233432413\n"
     ]
    }
   ],
   "source": [
    "import xgboost as xgb\n",
    "from sklearn.metrics import accuracy_score, classification_report, confusion_matrix\n",
    "from xgboost import XGBClassifier\n",
    "from sklearn.metrics import roc_curve, auc\n",
    "data = pd.read_csv('data_train-1.csv')\n",
    "data = data.dropna() #drop the rows where there are missing values\n",
    "\n",
    "# Extract the attributes. Copy the mentioned columns from the 'data' to x. The copy() method returns a copy of the DataFrame\n",
    "x = data[['Gender', 'Married', 'Dependents', 'Education', 'Self_Employed', 'ApplicantIncome', \n",
    "          'CoapplicantIncome', 'LoanAmount', 'Loan_Amount_Term', \n",
    "          'Credit_History', 'Property_Area']].copy()\n",
    "\n",
    "# Extract the target. Copy the mentioned columns from the 'data' to y. The copy() method returns a copy of the DataFrame\n",
    "y = data[['Loan_Status']].copy()\n",
    "\n",
    "# Convert the string or character to number\n",
    "x.loc[:, 'Gender'] = x['Gender'].map({'Male': 1, 'Female': 0}) #'Male' is mapped to 1, and 'Female' is mapped to 0\n",
    "x.loc[:, 'Married'] = x['Married'].map({'Yes': 1, 'No': 0}) # 'Yes' is mapped to 1, and 'No' is mapped to 0\n",
    "x.loc[:, 'Education'] = x['Education'].map({'Graduate': 1, 'Not Graduate': 0}) #'Graduate' is mapped to 1, and 'Not Graduate' is mapped to 0\n",
    "x.loc[:, 'Self_Employed'] = x['Self_Employed'].map({'Yes': 1, 'No': 0}) #'Yes' is mapped to 1, and 'No' is mapped to 0\n",
    "#'Urban' is mapped to 0, 'Semiurban' is mapped to 1, and 'Rural' is mapped to 2\n",
    "x.loc[:, 'Property_Area'] = x['Property_Area'].map({'Urban': 0, 'Semiurban': 1, 'Rural': 2}) \n",
    "#'0' mapped to 0, '1' mapped to 1, '2' mapped to 2, and '3+' mapped to 3.\n",
    "x.loc[:, 'Dependents'] = x['Dependents'].map({'0': 0, '1': 1, '2': 2, '3+': 3}) \n",
    "\n",
    "y = y['Loan_Status'].map({'Y': 1, 'N': 0}).to_numpy() #convert a dataframe to Numpy array\n",
    "\n",
    "x_array = x.to_numpy()  #convert dataframe to Numpy array\n",
    "\n",
    "\n",
    "\n",
    "n_bootstraps = 100\n",
    "alpha_vals = [1e-3,1e-2, 1e-1, 1, 1e1, 1e2, 1e3]\n",
    "Avg_AUC = train_XGBoost(n_bootstraps, alpha_vals, x_array, y)\n",
    "print(Avg_AUC)\n",
    "optimal_alpha = max(Avg_AUC, key=Avg_AUC.get)\n",
    "Max_AUC = Avg_AUC[optimal_alpha]\n",
    "print(\"optimal alpha: \", optimal_alpha)\n",
    "print(\"Maximum AUC\", Max_AUC)\n"
   ]
  },
  {
   "cell_type": "markdown",
   "id": "146ce461-403f-4968-9d52-04de068d8b14",
   "metadata": {},
   "source": [
    "I used the results from the train_XGBoost function which is optimal alpha = 10 for futher training of model with the entire data."
   ]
  },
  {
   "cell_type": "code",
   "execution_count": 417,
   "id": "67dfc51c-8334-4282-abb0-67be402731d8",
   "metadata": {},
   "outputs": [
    {
     "name": "stdout",
     "output_type": "stream",
     "text": [
      "Accuarcy:  0.7466666666666667\n"
     ]
    },
    {
     "data": {
      "image/png": "[encoded data removed]",
      "text/plain": [
       "<Figure size 800x600 with 1 Axes>"
      ]
     },
     "metadata": {},
     "output_type": "display_data"
    }
   ],
   "source": [
    "# split the dataset into training and testing sets.\n",
    "X_train, X_test, y_train, y_test = train_test_split(x_array, y, test_size=0.2, random_state=1234)\n",
    "\n",
    "xgbClassifierModel = XGBClassifier(objective='binary:logistic', reg_lambda=optimal_alpha, random_state=1234, max_depth=5)\n",
    "xgbClassifierModel.fit(X_train, y_train)\n",
    "y_predprob = xgbClassifierModel.predict_proba(X_test)[:,1]\n",
    "accuracy = xgbClassifierModel.score(X_test, y_test)\n",
    "fpr, tpr, _ = roc_curve(y_test, y_predprob)\n",
    "\n",
    "# Calculate the area under the ROC curve (AUC)\n",
    "roc_auc = auc(fpr, tpr)\n",
    "accuracy = xgbClassifierModel.score(X_test, y_test)\n",
    "print('Accuarcy: ', accuracy)\n",
    "\n",
    "# Plot the ROC curve\n",
    "pyplot.figure(figsize=(8, 6))\n",
    "pyplot.plot(fpr, tpr, color='blue', label=f'ROC curve (AUC = {roc_auc:.2f})')\n",
    "pyplot.plot([0, 1], [0, 1], color='red', linestyle='--', label='Random guess')\n",
    "pyplot.xlim([0.0, 1.0])\n",
    "pyplot.ylim([0.0, 1.05])\n",
    "pyplot.xlabel('False Positive Rate')\n",
    "pyplot.ylabel('True Positive Rate')\n",
    "pyplot.title('Receiver Operating Characteristic (ROC) Curve')\n",
    "pyplot.legend(loc=\"lower right\")\n",
    "pyplot.show()"
   ]
  },
  {
   "cell_type": "markdown",
   "id": "2a12a954-8daf-4193-b6fa-69bdd350b99f",
   "metadata": {},
   "source": [
    "It is observed that for XGboost technique, the accuarcy is 74.66% and Area under curve is 0.70. I have done multiple trails with different maximum depths. when the maximum depth is 4, the AUC is 0.68 and when the maximum depth is 5, the AUCis 0.70. If I increased it to 6, the AUC is reduced to 0.69. That's the reason I have given the max_depth as 5. I have used the hyperparameters resulted from train_XGBoost function"
   ]
  },
  {
   "cell_type": "code",
   "execution_count": 419,
   "id": "195e78f2-597d-4dac-a7cf-9837ee57ae94",
   "metadata": {},
   "outputs": [
    {
     "name": "stdout",
     "output_type": "stream",
     "text": [
      "   Unnamed: 0   Loan_ID Gender Married Dependents     Education Self_Employed  \\\n",
      "0           0  LP002364   Male     Yes          0      Graduate            No   \n",
      "1           1  LP001334   Male     Yes          0  Not Graduate            No   \n",
      "2           2  LP002979   Male     Yes         3+      Graduate            No   \n",
      "3           3  LP002443   Male     Yes          2      Graduate            No   \n",
      "4           4  LP001758   Male     Yes          2      Graduate            No   \n",
      "\n",
      "   ApplicantIncome  CoapplicantIncome  LoanAmount  Loan_Amount_Term  \\\n",
      "0            14880                0.0        96.0             360.0   \n",
      "1             4188                0.0       115.0             180.0   \n",
      "2             4106                0.0        40.0             180.0   \n",
      "3             3340             1710.0       150.0             360.0   \n",
      "4             6250             1695.0       210.0             360.0   \n",
      "\n",
      "   Credit_History Property_Area pred_tree pred_xgboost  \n",
      "0             1.0     Semiurban         Y            Y  \n",
      "1             1.0     Semiurban         Y            Y  \n",
      "2             1.0         Rural         Y            Y  \n",
      "3             0.0         Rural         N            N  \n",
      "4             1.0     Semiurban         Y            Y  \n"
     ]
    }
   ],
   "source": [
    "TestDataPredictions_boost = xgbClassifierModel.predict(Testx_array)\n",
    "TestDataPredictions_boost = np.where(TestDataPredictions_boost == 1, 'Y', 'N')\n",
    "# Add the predictions to the TestData DataFrame as a new column 'pred_tree'\n",
    "TestData.loc[TestData_new.index, 'pred_xgboost'] = TestDataPredictions_boost\n",
    "print(TestData.head())\n",
    "TestData.to_csv('data_test-1.csv', index=False)\n",
    "\n",
    "#This is implemented for submission of results\n",
    "Results = pd.DataFrame({'pred_tree': TestDataPredictions, 'pred_xgboost': TestDataPredictions_boost})\n",
    "Results.to_csv('SreedharReddy_Pacharla_preds.csv', index=False)"
   ]
  },
  {
   "cell_type": "code",
   "execution_count": null,
   "id": "6809b660-88ac-4cf1-b570-73e5bbeaa5ab",
   "metadata": {},
   "outputs": [],
   "source": []
  }
 ],
 "metadata": {
  "kernelspec": {
   "display_name": "Python 3 (ipykernel)",
   "language": "python",
   "name": "python3"
  },
  "language_info": {
   "codemirror_mode": {
    "name": "ipython",
    "version": 3
   },
   "file_extension": ".py",
   "mimetype": "text/x-python",
   "name": "python",
   "nbconvert_exporter": "python",
   "pygments_lexer": "ipython3",
   "version": "3.12.4"
  }
 },
 "nbformat": 4,
 "nbformat_minor": 5
}
